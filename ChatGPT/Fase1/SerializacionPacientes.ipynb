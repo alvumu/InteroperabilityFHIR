{
  "cells": [
    {
      "cell_type": "markdown",
      "metadata": {
        "id": "sXAZjOGONtKb"
      },
      "source": [
        "Leemos los archivos CSV y se convierten a JSON"
      ]
    },
    {
      "cell_type": "code",
      "execution_count": 3,
      "metadata": {
        "id": "6fOZRbPI6uxN"
      },
      "outputs": [],
      "source": [
        "import csv\n",
        "import json\n",
        "\n",
        "def csv2json(archivo_csv, archivo_json):\n",
        "    datos = []\n",
        "    with open(archivo_csv, 'r') as csv_file:\n",
        "        csv_reader = csv.DictReader(csv_file)\n",
        "        for fila in csv_reader:\n",
        "            datos.append(fila)\n",
        "\n",
        "    with open(archivo_json, 'w') as json_file:\n",
        "        json_file.write(json.dumps(datos, indent=4))\n",
        "\n",
        "\n"
      ]
    },
    {
      "cell_type": "code",
      "execution_count": 2,
      "metadata": {
        "id": "rCKkH5lL-PBA"
      },
      "outputs": [],
      "source": [
        "# Utiliza la función csv_a_json con los nombres de tus archivos CSV y JSON\n",
        "csv2json('patients.csv', 'patient.json')\n",
        "csv2json('admissions.csv', 'admissions.json')\n",
        "csv2json('transfers.csv', 'transfers.json')"
      ]
    },
    {
      "cell_type": "markdown",
      "metadata": {
        "id": "vyzLHjXJAbLI"
      },
      "source": [
        "Combinamos los datos para el recurso del paciente"
      ]
    },
    {
      "cell_type": "code",
      "execution_count": 10,
      "metadata": {
        "id": "6Ucgfj1KzdKQ"
      },
      "outputs": [],
      "source": [
        "# Función para cargar datos de un archivo JSON\n",
        "def load_json(filename):\n",
        "    with open(filename) as f:\n",
        "      return json.load(f)"
      ]
    },
    {
      "cell_type": "code",
      "execution_count": 7,
      "metadata": {},
      "outputs": [],
      "source": [
        "# Cargamos los recursos FHIR de MIMIC para seleccionar únicamente los pacientes que existen\n",
        "import json\n",
        "\n",
        "# Lee el archivo y carga los datos JSON\n",
        "with open('MimicEncounter2.ndjson') as file:\n",
        "    data = file.readlines()\n",
        "\n",
        "# Inicializa una lista para almacenar los valores de \"identifier\": \"value\"\n",
        "identifier_values = []\n",
        "\n",
        "# Itera sobre cada línea del archivo\n",
        "for line in data:\n",
        "    # Parsea la línea como JSON\n",
        "    record = json.loads(line)\n",
        "    # Obtiene el valor de \"identifier\": \"value\" y lo añade a la lista\n",
        "    identifier_value = record.get(\"identifier\", [{}])[0].get(\"value\", None)\n",
        "    identifier_values.append(int(identifier_value))\n",
        "\n",
        "# Imprime la lista de valores de \"identifier\": \"value\"\n"
      ]
    },
    {
      "cell_type": "code",
      "execution_count": 8,
      "metadata": {},
      "outputs": [
        {
          "data": {
            "text/plain": [
              "True"
            ]
          },
          "execution_count": 8,
          "metadata": {},
          "output_type": "execute_result"
        }
      ],
      "source": [
        "17242912 in identifier_values"
      ]
    },
    {
      "cell_type": "code",
      "execution_count": 12,
      "metadata": {
        "id": "evkcmh8kMhQe"
      },
      "outputs": [],
      "source": [
        "import json\n",
        "import pandas as pd\n",
        "\n",
        "# Crear un diccionario para almacenar la información combinada\n",
        "combined_data = {}\n",
        "\n",
        "# Construir un diccionario de pacientes para una búsqueda eficiente\n",
        "patients_dict = {}\n",
        "\n",
        "transfers_ordered = pd.read_json('transfers_ordered.json')\n",
        "\n",
        "for patient in load_json('patient.json'):\n",
        "    if(int(patient['subject_id']) in identifier_values):\n",
        "        patients_dict[patient['subject_id']] = patient\n",
        "        row = transfers_ordered.loc[transfers_ordered['subject_id'] == int(patient['subject_id'])]\n",
        "        patients_dict[patient['subject_id']]['intime'] = row['intime'].values[0]\n",
        "\n",
        "\n",
        "\n",
        "# Iterar sobre las admisiones médicas y combinar la información del paciente\n",
        "for admission in load_json('admissions.json'):\n",
        "    subject_id = admission['subject_id']\n",
        "    patient = patients_dict.get(subject_id)\n",
        "    # Comprobar si el paciente está presente en el JSON de pacientes\n",
        "    if patient:\n",
        "        # Si el paciente ya está en el diccionario combinado, agregar la admisión médica a su lista\n",
        "        if subject_id in combined_data:\n",
        "            combined_data[subject_id]['admissions'].append(admission)\n",
        "        # Si el paciente no está en el diccionario combinado, crear una nueva entrada\n",
        "        else:\n",
        "            combined_data[subject_id] = patient.copy()\n",
        "            combined_data[subject_id]['admissions'] = [admission]\n",
        "\n",
        "# Guardar la información combinada como un archivo JSON\n",
        "with open('combined_data.json', 'w') as json_file:\n",
        "    json.dump(list(combined_data.values()), json_file, indent=2)\n"
      ]
    },
    {
      "cell_type": "markdown",
      "metadata": {
        "id": "nhVHkqf_Ag_Y"
      },
      "source": [
        "Redactamos el texto de cada paciente"
      ]
    },
    {
      "cell_type": "code",
      "execution_count": 16,
      "metadata": {
        "id": "8Lvgu6YnerLo"
      },
      "outputs": [],
      "source": [
        "import json\n",
        "\n",
        "# Función para generar texto a partir de una instancia del JSON\n",
        "def generate_text_from_instance(instance):\n",
        "    text_by_id = {}\n",
        "    for patient_data in instance:\n",
        "        patient_id = patient_data[\"subject_id\"]\n",
        "        patient_text = \"Patient Info:\\n\"\n",
        "        for key, value in patient_data.items():\n",
        "            patient_text += f\"The {key} of the patient is {value}. \"\n",
        "        for admission in patient_data['admissions']:\n",
        "            for key, value in admission.items():\n",
        "                patient_text += f\"The {key} is {value}. \"\n",
        "            patient_text += \"\\n\"\n",
        "        patient_text += \"\\n\"\n",
        "        # Almacenar la descripción de texto por ID\n",
        "        text_by_id[patient_id] = patient_text\n",
        "    return text_by_id\n",
        "\n",
        "\n",
        "# Función para generar texto a partir de una instancia del JSON\n",
        "def generate_text_from_instance_2(instance):\n",
        "    text_by_id = {}\n",
        "    for patient_data in instance:\n",
        "        patient_id = int(patient_data[\"subject_id\"])\n",
        "        patient_text = [\"Patient Info:\"]\n",
        "        for key, value in patient_data.items():\n",
        "            if key != 'admissions':\n",
        "                patient_text.append(f\"The {key} of the patient is {value}.\")\n",
        "        for admission in patient_data.get('admissions', []):\n",
        "            admission_text = []\n",
        "            for key, value in admission.items():\n",
        "                admission_text.append(f\"The {key} is {value}.\")\n",
        "            patient_text.append(\" \".join(admission_text))\n",
        "        # Almacenar la descripción de texto por ID\n",
        "        text_by_id[patient_id] = \"\\n\".join(patient_text)\n",
        "    return text_by_id\n",
        "\n",
        "\n"
      ]
    },
    {
      "cell_type": "code",
      "execution_count": 17,
      "metadata": {
        "id": "NQ2mLuVt9Dsu"
      },
      "outputs": [],
      "source": [
        "# Leer los datos del archivo JSON\n",
        "with open('combined_data.json') as f:\n",
        "    data = json.load(f)"
      ]
    },
    {
      "cell_type": "markdown",
      "metadata": {
        "id": "TD-ycUCbAtp3"
      },
      "source": [
        "Buscamos un paciente concreto"
      ]
    },
    {
      "cell_type": "code",
      "execution_count": 18,
      "metadata": {
        "id": "0atXkrmw9-w_"
      },
      "outputs": [],
      "source": [
        "# Generar texto para el JSON y almacenarlo por ID\n",
        "text_dict = generate_text_from_instance_2(data)\n",
        "# Guardar la información combinada como un archivo JSON\n",
        "with open('serialized_patient.json', 'w') as json_file:\n",
        "    json.dump(list(text_dict.values()), json_file, indent=2)"
      ]
    },
    {
      "cell_type": "code",
      "execution_count": 20,
      "metadata": {
        "colab": {
          "base_uri": "https://localhost:8080/"
        },
        "id": "aUKC5xTdidx6",
        "outputId": "f8c35d89-3d3b-4fee-ec72-f59b7fdd69cc"
      },
      "outputs": [
        {
          "name": "stdout",
          "output_type": "stream",
          "text": [
            "Patient Info:\n",
            "The subject_id of the patient is 10322234. The gender of the patient is F. The anchor_age of the patient is 53. The anchor_year of the patient is 2122. The anchor_year_group of the patient is 2008 - 2010. The dod of the patient is . The admissions of the patient is [{'subject_id': '10322234', 'hadm_id': '29789116', 'admittime': '2122-02-25 01:06:00', 'dischtime': '2122-02-25 12:42:00', 'deathtime': '', 'admission_type': 'EU OBSERVATION', 'admission_location': 'EMERGENCY ROOM', 'discharge_location': '', 'insurance': 'Other', 'language': '?', 'marital_status': 'MARRIED', 'ethnicity': 'ASIAN', 'edregtime': '2122-02-24 21:30:00', 'edouttime': '2122-02-25 12:42:00', 'hospital_expire_flag': '0'}]. The subject_id is 10322234. The hadm_id is 29789116. The admittime is 2122-02-25 01:06:00. The dischtime is 2122-02-25 12:42:00. The deathtime is . The admission_type is EU OBSERVATION. The admission_location is EMERGENCY ROOM. The discharge_location is . The insurance is Other. The language is ?. The marital_status is MARRIED. The ethnicity is ASIAN. The edregtime is 2122-02-24 21:30:00. The edouttime is 2122-02-25 12:42:00. The hospital_expire_flag is 0. \n",
            "\n",
            "\n"
          ]
        }
      ],
      "source": [
        "# Función para buscar la información por ID\n",
        "def search_by_id(patient_id):\n",
        "    return text_dict.get(patient_id, \"ID not found\")\n",
        "\n",
        "# Ejemplo de búsqueda\n",
        "patient_id_to_search = \"10322234\"\n",
        "print(search_by_id(patient_id_to_search))"
      ]
    },
    {
      "cell_type": "markdown",
      "metadata": {
        "id": "LiblTmaT_I7V"
      },
      "source": [
        "# Transfers + Admissions"
      ]
    },
    {
      "cell_type": "code",
      "execution_count": 9,
      "metadata": {
        "id": "2iUGo61UviY4"
      },
      "outputs": [],
      "source": [
        "# Utiliza la función csv_a_json con los nombres de tus archivos CSV y JSON\n",
        "csv2json('transfers.csv', 'transfers.json')"
      ]
    },
    {
      "cell_type": "code",
      "execution_count": 30,
      "metadata": {
        "id": "cBTWXsWcsbtr"
      },
      "outputs": [
        {
          "ename": "AttributeError",
          "evalue": "'NoneType' object has no attribute 'get'",
          "output_type": "error",
          "traceback": [
            "\u001b[1;31m---------------------------------------------------------------------------\u001b[0m",
            "\u001b[1;31mAttributeError\u001b[0m                            Traceback (most recent call last)",
            "Cell \u001b[1;32mIn[30], line 13\u001b[0m\n\u001b[0;32m     11\u001b[0m \u001b[38;5;28;01mfor\u001b[39;00m transfer \u001b[38;5;129;01min\u001b[39;00m load_json(\u001b[38;5;124m'\u001b[39m\u001b[38;5;124mtransfers.json\u001b[39m\u001b[38;5;124m'\u001b[39m):\n\u001b[0;32m     12\u001b[0m     hadm_id \u001b[38;5;241m=\u001b[39m transfer[\u001b[38;5;124m'\u001b[39m\u001b[38;5;124mhadm_id\u001b[39m\u001b[38;5;124m'\u001b[39m]\n\u001b[1;32m---> 13\u001b[0m     admission \u001b[38;5;241m=\u001b[39m \u001b[43madmission\u001b[49m\u001b[38;5;241;43m.\u001b[39;49m\u001b[43mget\u001b[49m(hadm_id)\n\u001b[0;32m     14\u001b[0m     \u001b[38;5;66;03m# Comprobar si el paciente está presente en el JSON de pacientes\u001b[39;00m\n\u001b[0;32m     15\u001b[0m     \u001b[38;5;28;01mif\u001b[39;00m admission:\n\u001b[0;32m     16\u001b[0m         \u001b[38;5;66;03m# Si el paciente ya está en el diccionario combinado, agregar la admisión médica a su lista\u001b[39;00m\n",
            "\u001b[1;31mAttributeError\u001b[0m: 'NoneType' object has no attribute 'get'"
          ]
        }
      ],
      "source": [
        "# Crear un diccionario para almacenar la información combinada\n",
        "combined_data = {}\n",
        "\n",
        "# Construir un diccionario de pacientes para una búsqueda eficiente\n",
        "admission_dict = {}\n",
        "\n",
        "for admission in load_json('admissions.json'):\n",
        "    admission_dict[admission['hadm_id']] = admission\n",
        "\n",
        "# Iterar sobre las admisiones médicas y combinar la información del paciente\n",
        "for transfer in load_json('transfers.json'):\n",
        "    hadm_id = transfer['hadm_id']\n",
        "    admission = admission.get(hadm_id)\n",
        "    # Comprobar si el paciente está presente en el JSON de pacientes\n",
        "    if admission:\n",
        "        # Si el paciente ya está en el diccionario combinado, agregar la admisión médica a su lista\n",
        "        if hadm_id in combined_data:\n",
        "            combined_data[hadm_id]['transfers'].append(transfer)\n",
        "        # Si el paciente no está en el diccionario combinado, crear una nueva entrada\n",
        "        else:\n",
        "            combined_data[hadm_id] = transfer.copy()\n",
        "            combined_data[hadm_id]['transfers'] = [transfer]\n",
        "\n",
        "# Guardar la información combinada como un archivo JSON\n",
        "with open('combined_data_TA.json', 'w') as json_file:\n",
        "    json.dump(list(combined_data.values()), json_file, indent=2)\n"
      ]
    },
    {
      "cell_type": "code",
      "execution_count": 22,
      "metadata": {},
      "outputs": [
        {
          "name": "stdout",
          "output_type": "stream",
          "text": [
            "Datos combinados guardados en combined_data.json\n"
          ]
        }
      ],
      "source": [
        "import json\n",
        "\n",
        "# Función para cargar datos desde archivos CSV\n",
        "def load_data_from_csv(file_path):\n",
        "    data = {}\n",
        "    with open(file_path, 'r') as file:\n",
        "        next(file)  # Saltar la primera línea que contiene los encabezados\n",
        "        for line in file:\n",
        "            fields = line.strip().split(',')\n",
        "            subject_id = fields[0]\n",
        "            hadm_id = fields[1]\n",
        "            transfer_id = fields[2]\n",
        "            eventtype = fields[3]\n",
        "            careunit = fields[4]\n",
        "            intime = fields[5]\n",
        "            outtime = fields[6]\n",
        "            admission_data = {\n",
        "                \"hadm_id\": hadm_id,\n",
        "                \"transfer_id\": transfer_id,\n",
        "                \"eventtype\": eventtype,\n",
        "                \"careunit\": careunit,\n",
        "                \"intime\": intime,\n",
        "                \"outtime\": outtime\n",
        "            }\n",
        "            if subject_id not in data:\n",
        "                data[subject_id] = {}\n",
        "            if hadm_id not in data[subject_id]:\n",
        "                data[subject_id][hadm_id] = []\n",
        "            data[subject_id][hadm_id].append(admission_data)\n",
        "    return data\n",
        "\n",
        "# Cargar datos de los archivos CSV\n",
        "transfer_data = load_data_from_csv('transfers.csv')\n",
        "admission_data = load_data_from_csv('admissions.csv')\n",
        "\n",
        "# Combinar los datos de transfer y admission\n",
        "combined_data = {}\n",
        "for subject_id, transfers in transfer_data.items():\n",
        "    combined_data[f\"subject_id_{subject_id}\"] = {}\n",
        "    for hadm_id, admissions in admission_data.get(subject_id, {}).items():\n",
        "        combined_data[f\"subject_id_{subject_id}\"][f\"hamd_id_{hadm_id}\"] = {\n",
        "            \"admissions\": admissions,\n",
        "            \"transfers\": transfers.get(hadm_id, [])\n",
        "        }\n",
        "\n",
        "\n",
        "# Guardar datos combinados en un archivo JSON\n",
        "with open('combined_data_TA_2.json', 'w') as json_file:\n",
        "    json.dump(combined_data, json_file, indent=4)\n",
        "\n",
        "print(\"Datos combinados guardados en combined_data.json\")\n"
      ]
    },
    {
      "cell_type": "code",
      "execution_count": 51,
      "metadata": {},
      "outputs": [],
      "source": [
        "import json\n",
        "\n",
        "def combine_data(transfers, admissions):\n",
        "    combined_data = {}\n",
        "    \n",
        "    # Iterar sobre los datos de Transfer\n",
        "    for transfer in transfers:\n",
        "        subject_id = transfer['subject_id']\n",
        "        if subject_id not in combined_data:\n",
        "            combined_data[subject_id] = {'transfers': []}\n",
        "        \n",
        "        # Agregar el transfer a la lista de transfers asociados al hadm_id\n",
        "        combined_data[subject_id]['transfers'].append(transfer)\n",
        "    \n",
        "    # Iterar sobre los datos de Admission\n",
        "    for admission in admissions:\n",
        "        hadm_id = admission['hadm_id']\n",
        "        subject_id = admission['subject_id']\n",
        "        if hadm_id in combined_data[subject_id]['transfers']:\n",
        "            # Asignar la información de admisión al hadm_id correspondiente\n",
        "            combined_data[subject_id]['transfers'].append(admission)\n",
        "    \n",
        "    return combined_data"
      ]
    },
    {
      "cell_type": "code",
      "execution_count": 48,
      "metadata": {},
      "outputs": [],
      "source": [
        "\n",
        "# Guardar los datos combinados en un archivo JSON\n",
        "with open('combined_data_prueba.json', 'w') as f:\n",
        "    json.dump(combined_data, f, indent=4)\n"
      ]
    },
    {
      "cell_type": "code",
      "execution_count": 21,
      "metadata": {
        "id": "ckPA_uRt_Are"
      },
      "outputs": [],
      "source": [
        "# Leer los datos del archivo JSON\n",
        "with open('combined_data_TA.json') as f:\n",
        "    data = json.load(f)"
      ]
    },
    {
      "cell_type": "code",
      "execution_count": 22,
      "metadata": {
        "id": "qs9fi_lh_Bxh"
      },
      "outputs": [],
      "source": [
        "# Generar texto para el JSON y almacenarlo por ID\n",
        "text_dict_TA = generate_text_from_instance(data)\n",
        "\n",
        "# Guardar los datos combinados en un archivo JSON\n",
        "with open('serialized_text_TA.json', 'w') as json_file:\n",
        "    json.dump(list(text_dict.values()), json_file, indent=2)"
      ]
    },
    {
      "cell_type": "code",
      "execution_count": 27,
      "metadata": {
        "colab": {
          "base_uri": "https://localhost:8080/"
        },
        "id": "sTAo89mM_DpV",
        "outputId": "ebc284a3-8dd5-4b86-f7f1-c05846af254f"
      },
      "outputs": [
        {
          "name": "stdout",
          "output_type": "stream",
          "text": [
            "Patient Info:\n",
            "The subject_id of the patient is 13588367. The hadm_id of the patient is 27078906. The transfer_id of the patient is 30984755. The eventtype of the patient is transfer. The careunit of the patient is Medicine. The intime of the patient is 2156-04-01 18:11:03. The outtime of the patient is 2156-04-05 13:05:39. The admissions of the patient is [{'subject_id': '13588367', 'hadm_id': '27078906', 'admittime': '2156-03-26 19:48:00', 'dischtime': '2156-04-05 13:05:00', 'deathtime': '', 'admission_type': 'EW EMER.', 'admission_location': 'EMERGENCY ROOM', 'discharge_location': 'HOME', 'insurance': 'Medicare', 'language': 'ENGLISH', 'marital_status': 'SINGLE', 'ethnicity': 'WHITE', 'edregtime': '2156-03-26 17:42:00', 'edouttime': '2156-03-26 20:11:00', 'hospital_expire_flag': '0'}]. The subject_id is 13588367. The hadm_id is 27078906. The admittime is 2156-03-26 19:48:00. The dischtime is 2156-04-05 13:05:00. The deathtime is . The admission_type is EW EMER.. The admission_location is EMERGENCY ROOM. The discharge_location is HOME. The insurance is Medicare. The language is ENGLISH. The marital_status is SINGLE. The ethnicity is WHITE. The edregtime is 2156-03-26 17:42:00. The edouttime is 2156-03-26 20:11:00. The hospital_expire_flag is 0. \n",
            "\n",
            "\n"
          ]
        }
      ],
      "source": [
        "# Función para buscar la información por ID\n",
        "def search_by_id(patient_id):\n",
        "    return text_dict_TA.get(patient_id, \"ID not found\")\n",
        "\n",
        "# Ejemplo de búsqueda\n",
        "patient_id_to_search = \"13588367\"\n",
        "print(search_by_id(patient_id_to_search))"
      ]
    }
  ],
  "metadata": {
    "colab": {
      "provenance": []
    },
    "kernelspec": {
      "display_name": "Python 3",
      "name": "python3"
    },
    "language_info": {
      "codemirror_mode": {
        "name": "ipython",
        "version": 3
      },
      "file_extension": ".py",
      "mimetype": "text/x-python",
      "name": "python",
      "nbconvert_exporter": "python",
      "pygments_lexer": "ipython3",
      "version": "3.11.9"
    }
  },
  "nbformat": 4,
  "nbformat_minor": 0
}
